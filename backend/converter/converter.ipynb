{
 "cells": [
  {
   "cell_type": "code",
   "execution_count": 1,
   "source": [
    "import netCDF4 as nc\r\n",
    "import pandas as pd\r\n",
    "\r\n",
    "precip_nc_file = 'CSR_GRACE_GRACE-FO_RL06_Mascons_all-corrections_v02.nc'\r\n",
    "df1 = nc.Dataset(precip_nc_file, mode='r')"
   ],
   "outputs": [],
   "metadata": {}
  },
  {
   "cell_type": "code",
   "execution_count": 16,
   "source": [
    "for key, value in df1.variables.items():\r\n",
    "    print(key,value)\r\n"
   ],
   "outputs": [
    {
     "output_type": "stream",
     "name": "stdout",
     "text": [
      "time_bounds <class 'netCDF4._netCDF4.Variable'>\n",
      "float32 time_bounds(time, timebound)\n",
      "unlimited dimensions: \n",
      "current shape = (199, 2)\n",
      "filling on, default _FillValue of 9.969209968386869e+36 used\n",
      "time <class 'netCDF4._netCDF4.Variable'>\n",
      "float32 time(time)\n",
      "    bounds: time_bounds\n",
      "    calendar: gregorian\n",
      "    axis: T\n",
      "    standard_name: Time\n",
      "    long_name: Time\n",
      "    Units: days since 2002-01-01T00:00:00Z\n",
      "unlimited dimensions: \n",
      "current shape = (199,)\n",
      "filling on, default _FillValue of 9.969209968386869e+36 used\n",
      "lon <class 'netCDF4._netCDF4.Variable'>\n",
      "float32 lon(lon)\n",
      "    bounds: lon_bounds\n",
      "    valid_max: 359.875\n",
      "    valid_min: 0.125\n",
      "    axis: X\n",
      "    standard_name: Longitude\n",
      "    long_name: Longitude\n",
      "    Units: degrees_east\n",
      "unlimited dimensions: \n",
      "current shape = (1440,)\n",
      "filling on, default _FillValue of 9.969209968386869e+36 used\n",
      "lat <class 'netCDF4._netCDF4.Variable'>\n",
      "float32 lat(lat)\n",
      "    bounds: lat_bounds\n",
      "    valid_max: 89.875\n",
      "    valid_min: -89.875\n",
      "    axis: Y\n",
      "    standard_name: Latitude\n",
      "    long_name: Latitude\n",
      "    Units: degrees_north\n",
      "unlimited dimensions: \n",
      "current shape = (720,)\n",
      "filling on, default _FillValue of 9.969209968386869e+36 used\n",
      "lwe_thickness <class 'netCDF4._netCDF4.Variable'>\n",
      "float32 lwe_thickness(time, lat, lon)\n",
      "    grid_mapping: WGS84\n",
      "    coordinates: time lat lon\n",
      "    standard_name: Liquid_Water_Equivalent_Thickness\n",
      "    long_name: Liquid_Water_Equivalent_Thickness\n",
      "    Units: cm\n",
      "unlimited dimensions: \n",
      "current shape = (199, 720, 1440)\n",
      "filling on, default _FillValue of 9.969209968386869e+36 used\n"
     ]
    }
   ],
   "metadata": {}
  },
  {
   "cell_type": "code",
   "execution_count": 6,
   "source": [
    "nc.head()"
   ],
   "outputs": [
    {
     "output_type": "error",
     "ename": "AttributeError",
     "evalue": "NetCDF: Attribute not found",
     "traceback": [
      "\u001b[1;31m---------------------------------------------------------------------------\u001b[0m",
      "\u001b[1;31mAttributeError\u001b[0m                            Traceback (most recent call last)",
      "\u001b[1;32m<ipython-input-6-c2c367cccd77>\u001b[0m in \u001b[0;36m<module>\u001b[1;34m\u001b[0m\n\u001b[1;32m----> 1\u001b[1;33m \u001b[0mnc\u001b[0m\u001b[1;33m.\u001b[0m\u001b[0mhead\u001b[0m\u001b[1;33m(\u001b[0m\u001b[1;33m)\u001b[0m\u001b[1;33m\u001b[0m\u001b[1;33m\u001b[0m\u001b[0m\n\u001b[0m",
      "\u001b[1;32msrc\\netCDF4\\_netCDF4.pyx\u001b[0m in \u001b[0;36mnetCDF4._netCDF4.Dataset.__getattr__\u001b[1;34m()\u001b[0m\n",
      "\u001b[1;32msrc\\netCDF4\\_netCDF4.pyx\u001b[0m in \u001b[0;36mnetCDF4._netCDF4.Dataset.getncattr\u001b[1;34m()\u001b[0m\n",
      "\u001b[1;32msrc\\netCDF4\\_netCDF4.pyx\u001b[0m in \u001b[0;36mnetCDF4._netCDF4._get_att\u001b[1;34m()\u001b[0m\n",
      "\u001b[1;32msrc\\netCDF4\\_netCDF4.pyx\u001b[0m in \u001b[0;36mnetCDF4._netCDF4._ensure_nc_success\u001b[1;34m()\u001b[0m\n",
      "\u001b[1;31mAttributeError\u001b[0m: NetCDF: Attribute not found"
     ]
    }
   ],
   "metadata": {}
  },
  {
   "cell_type": "code",
   "execution_count": 8,
   "source": [
    "lat = df1.variables['lat'][1:358]"
   ],
   "outputs": [
    {
     "output_type": "stream",
     "name": "stderr",
     "text": [
      "C:\\Users\\Lenovo\\AppData\\Local\\Programs\\Python\\Python37\\lib\\site-packages\\ipykernel_launcher.py:1: UserWarning: WARNING: valid_min not used since it\n",
      "cannot be safely cast to variable data type\n",
      "  \"\"\"Entry point for launching an IPython kernel.\n",
      "C:\\Users\\Lenovo\\AppData\\Local\\Programs\\Python\\Python37\\lib\\site-packages\\ipykernel_launcher.py:1: UserWarning: WARNING: valid_max not used since it\n",
      "cannot be safely cast to variable data type\n",
      "  \"\"\"Entry point for launching an IPython kernel.\n"
     ]
    }
   ],
   "metadata": {}
  },
  {
   "cell_type": "code",
   "execution_count": 10,
   "source": [
    "lon = df1.variables['lon'][1:358]"
   ],
   "outputs": [
    {
     "output_type": "stream",
     "name": "stderr",
     "text": [
      "C:\\Users\\Lenovo\\AppData\\Local\\Programs\\Python\\Python37\\lib\\site-packages\\ipykernel_launcher.py:1: UserWarning: WARNING: valid_min not used since it\n",
      "cannot be safely cast to variable data type\n",
      "  \"\"\"Entry point for launching an IPython kernel.\n",
      "C:\\Users\\Lenovo\\AppData\\Local\\Programs\\Python\\Python37\\lib\\site-packages\\ipykernel_launcher.py:1: UserWarning: WARNING: valid_max not used since it\n",
      "cannot be safely cast to variable data type\n",
      "  \"\"\"Entry point for launching an IPython kernel.\n"
     ]
    }
   ],
   "metadata": {}
  },
  {
   "cell_type": "code",
   "execution_count": 12,
   "source": [
    "time_var = df1.variables['time']"
   ],
   "outputs": [],
   "metadata": {}
  },
  {
   "cell_type": "code",
   "execution_count": 21,
   "source": [
    "dtime = nc.num2date(time_var[:],time_var.Units)"
   ],
   "outputs": [],
   "metadata": {}
  },
  {
   "cell_type": "code",
   "execution_count": 24,
   "source": [
    "lwe_thickness = df1.variables['lwe_thickness'][:]"
   ],
   "outputs": [],
   "metadata": {}
  },
  {
   "cell_type": "code",
   "execution_count": 36,
   "source": [
    "lwe_thicnkess_npa = lwe_thickness.filled(fill_value=None)"
   ],
   "outputs": [],
   "metadata": {}
  },
  {
   "cell_type": "code",
   "execution_count": 38,
   "source": [
    "lwe_thickness"
   ],
   "outputs": [
    {
     "output_type": "execute_result",
     "data": {
      "text/plain": [
       "masked_array(\n",
       "  data=[[[-2.4686682 , -2.4686682 , -2.4686682 , ..., -2.4686682 ,\n",
       "          -2.4686682 , -2.4686682 ],\n",
       "         [-2.4686682 , -2.4686682 , -2.4686682 , ..., -2.4686682 ,\n",
       "          -2.4686682 , -2.4686682 ],\n",
       "         [-3.255136  , -3.255136  , -3.255136  , ..., -3.255136  ,\n",
       "          -3.255136  , -3.255136  ],\n",
       "         ...,\n",
       "         [-1.3975726 , -1.3975726 , -1.3975726 , ..., -1.3975726 ,\n",
       "          -1.3975726 , -1.3975726 ],\n",
       "         [-1.2028674 , -1.2028674 , -1.2028674 , ..., -1.2028674 ,\n",
       "          -1.2028674 , -1.2028674 ],\n",
       "         [-1.2028674 , -1.2028674 , -1.2028674 , ..., -1.2028674 ,\n",
       "          -1.2028674 , -1.2028674 ]],\n",
       "\n",
       "        [[-1.5694039 , -1.5694039 , -1.5694039 , ..., -1.5694039 ,\n",
       "          -1.5694039 , -1.5694039 ],\n",
       "         [-1.5694039 , -1.5694039 , -1.5694039 , ..., -1.5694039 ,\n",
       "          -1.5694039 , -1.5694039 ],\n",
       "         [-2.4340773 , -2.4340773 , -2.4340773 , ..., -2.4340773 ,\n",
       "          -2.4340773 , -2.4340773 ],\n",
       "         ...,\n",
       "         [-2.3898158 , -2.3898158 , -2.3898158 , ..., -2.3898158 ,\n",
       "          -2.3898158 , -2.3898158 ],\n",
       "         [-1.3910245 , -1.3910245 , -1.3910245 , ..., -1.3910245 ,\n",
       "          -1.3910245 , -1.3910245 ],\n",
       "         [-1.3910245 , -1.3910245 , -1.3910245 , ..., -1.3910245 ,\n",
       "          -1.3910245 , -1.3910245 ]],\n",
       "\n",
       "        [[-3.044039  , -3.044039  , -3.044039  , ..., -3.044039  ,\n",
       "          -3.044039  , -3.044039  ],\n",
       "         [-3.044039  , -3.044039  , -3.044039  , ..., -3.044039  ,\n",
       "          -3.044039  , -3.044039  ],\n",
       "         [-4.037924  , -4.037924  , -4.037924  , ..., -4.037924  ,\n",
       "          -4.037924  , -4.037924  ],\n",
       "         ...,\n",
       "         [ 3.6735613 ,  3.6735613 ,  3.6735613 , ...,  3.6735613 ,\n",
       "           3.6735613 ,  3.6735613 ],\n",
       "         [ 4.643331  ,  4.643331  ,  4.643331  , ...,  4.643331  ,\n",
       "           4.643331  ,  4.643331  ],\n",
       "         [ 4.643331  ,  4.643331  ,  4.643331  , ...,  4.643331  ,\n",
       "           4.643331  ,  4.643331  ]],\n",
       "\n",
       "        ...,\n",
       "\n",
       "        [[14.34227   , 14.34227   , 14.34227   , ..., 14.34227   ,\n",
       "          14.34227   , 14.34227   ],\n",
       "         [14.34227   , 14.34227   , 14.34227   , ..., 14.34227   ,\n",
       "          14.34227   , 14.34227   ],\n",
       "         [19.42275   , 19.42275   , 19.42275   , ..., 19.42275   ,\n",
       "          19.42275   , 19.42275   ],\n",
       "         ...,\n",
       "         [-2.1988893 , -2.1988893 , -2.1988893 , ..., -2.1988893 ,\n",
       "          -2.1988893 , -2.1988893 ],\n",
       "         [-0.32625416, -0.32625416, -0.32625416, ..., -0.32625416,\n",
       "          -0.32625416, -0.32625416],\n",
       "         [-0.32625416, -0.32625416, -0.32625416, ..., -0.32625416,\n",
       "          -0.32625416, -0.32625416]],\n",
       "\n",
       "        [[24.762852  , 24.762852  , 24.762852  , ..., 24.762852  ,\n",
       "          24.762852  , 24.762852  ],\n",
       "         [24.762852  , 24.762852  , 24.762852  , ..., 24.762852  ,\n",
       "          24.762852  , 24.762852  ],\n",
       "         [23.685282  , 23.685282  , 23.685282  , ..., 23.685282  ,\n",
       "          23.685282  , 23.685282  ],\n",
       "         ...,\n",
       "         [ 0.4120246 ,  0.4120246 ,  0.4120246 , ...,  0.4120246 ,\n",
       "           0.4120246 ,  0.4120246 ],\n",
       "         [ 2.379531  ,  2.379531  ,  2.379531  , ...,  2.379531  ,\n",
       "           2.379531  ,  2.379531  ],\n",
       "         [ 2.379531  ,  2.379531  ,  2.379531  , ...,  2.379531  ,\n",
       "           2.379531  ,  2.379531  ]],\n",
       "\n",
       "        [[15.46482   , 15.46482   , 15.46482   , ..., 15.46482   ,\n",
       "          15.46482   , 15.46482   ],\n",
       "         [15.46482   , 15.46482   , 15.46482   , ..., 15.46482   ,\n",
       "          15.46482   , 15.46482   ],\n",
       "         [18.963024  , 18.963024  , 18.963024  , ..., 18.963024  ,\n",
       "          18.963024  , 18.963024  ],\n",
       "         ...,\n",
       "         [-0.53258187, -0.53258187, -0.53258187, ..., -0.53258187,\n",
       "          -0.53258187, -0.53258187],\n",
       "         [ 1.1252067 ,  1.1252067 ,  1.1252067 , ...,  1.1252067 ,\n",
       "           1.1252067 ,  1.1252067 ],\n",
       "         [ 1.1252067 ,  1.1252067 ,  1.1252067 , ...,  1.1252067 ,\n",
       "           1.1252067 ,  1.1252067 ]]],\n",
       "  mask=False,\n",
       "  fill_value=1e+20,\n",
       "  dtype=float32)"
      ]
     },
     "metadata": {},
     "execution_count": 38
    }
   ],
   "metadata": {}
  },
  {
   "cell_type": "code",
   "execution_count": 41,
   "source": [],
   "outputs": [
    {
     "output_type": "execute_result",
     "data": {
      "text/plain": [
       "(199, 720, 1440)"
      ]
     },
     "metadata": {},
     "execution_count": 41
    }
   ],
   "metadata": {}
  },
  {
   "cell_type": "code",
   "execution_count": 58,
   "source": [],
   "outputs": [
    {
     "output_type": "error",
     "ename": "NameError",
     "evalue": "name 'array1' is not defined",
     "traceback": [
      "\u001b[1;31m---------------------------------------------------------------------------\u001b[0m",
      "\u001b[1;31mNameError\u001b[0m                                 Traceback (most recent call last)",
      "\u001b[1;32m<ipython-input-58-fa8c86d762d1>\u001b[0m in \u001b[0;36m<module>\u001b[1;34m\u001b[0m\n\u001b[0;32m      2\u001b[0m \u001b[1;32mfor\u001b[0m \u001b[0mi\u001b[0m \u001b[1;32min\u001b[0m \u001b[0mrange\u001b[0m\u001b[1;33m(\u001b[0m\u001b[1;36m1440\u001b[0m\u001b[1;33m)\u001b[0m\u001b[1;33m:\u001b[0m\u001b[1;33m\u001b[0m\u001b[1;33m\u001b[0m\u001b[0m\n\u001b[0;32m      3\u001b[0m     \u001b[1;32mfor\u001b[0m \u001b[0mj\u001b[0m \u001b[1;32min\u001b[0m \u001b[0mrange\u001b[0m\u001b[1;33m(\u001b[0m\u001b[1;36m720\u001b[0m\u001b[1;33m)\u001b[0m\u001b[1;33m:\u001b[0m\u001b[1;33m\u001b[0m\u001b[1;33m\u001b[0m\u001b[0m\n\u001b[1;32m----> 4\u001b[1;33m         \u001b[0mnp\u001b[0m\u001b[1;33m.\u001b[0m\u001b[0mappend\u001b[0m\u001b[1;33m(\u001b[0m\u001b[0marray1\u001b[0m\u001b[1;33m,\u001b[0m\u001b[0mlwe_thickness\u001b[0m\u001b[1;33m[\u001b[0m\u001b[0mi\u001b[0m\u001b[1;33m]\u001b[0m\u001b[1;33m[\u001b[0m\u001b[0mj\u001b[0m\u001b[1;33m]\u001b[0m\u001b[1;33m[\u001b[0m\u001b[1;36m0\u001b[0m\u001b[1;33m]\u001b[0m\u001b[1;33m)\u001b[0m\u001b[1;33m\u001b[0m\u001b[1;33m\u001b[0m\u001b[0m\n\u001b[0m\u001b[0;32m      5\u001b[0m \u001b[1;33m\u001b[0m\u001b[0m\n",
      "\u001b[1;31mNameError\u001b[0m: name 'array1' is not defined"
     ]
    }
   ],
   "metadata": {}
  },
  {
   "cell_type": "code",
   "execution_count": 82,
   "source": [
    "array1 = np.array([])\r\n",
    "array2 = np.array([])\r\n",
    "l1 = []\r\n",
    "l2 = []"
   ],
   "outputs": [],
   "metadata": {}
  },
  {
   "cell_type": "code",
   "execution_count": 83,
   "source": [
    "import numpy as np\r\n",
    "for i in range(199):\r\n",
    "    for j in range(720):\r\n",
    "        l2.append(lwe_thickness[i][j][0])\r\n",
    "    l1.append(l2)\r\n",
    "    l2 = []\r\n",
    "\r\n",
    "array1 = np.asarray(l1)"
   ],
   "outputs": [],
   "metadata": {}
  },
  {
   "cell_type": "code",
   "execution_count": 84,
   "source": [
    "array1.shape"
   ],
   "outputs": [
    {
     "output_type": "execute_result",
     "data": {
      "text/plain": [
       "(199, 720)"
      ]
     },
     "metadata": {},
     "execution_count": 84
    }
   ],
   "metadata": {}
  },
  {
   "cell_type": "code",
   "execution_count": 72,
   "source": [
    "dtime.shape"
   ],
   "outputs": [
    {
     "output_type": "execute_result",
     "data": {
      "text/plain": [
       "(199,)"
      ]
     },
     "metadata": {},
     "execution_count": 72
    }
   ],
   "metadata": {}
  },
  {
   "cell_type": "code",
   "execution_count": 86,
   "source": [
    "lwe_thickness_ts = pd.DataFrame(array1,index=dtime)"
   ],
   "outputs": [],
   "metadata": {}
  },
  {
   "cell_type": "code",
   "execution_count": 87,
   "source": [
    "lwe_thickness_ts.head()"
   ],
   "outputs": [
    {
     "output_type": "execute_result",
     "data": {
      "text/html": [
       "<div>\n",
       "<style scoped>\n",
       "    .dataframe tbody tr th:only-of-type {\n",
       "        vertical-align: middle;\n",
       "    }\n",
       "\n",
       "    .dataframe tbody tr th {\n",
       "        vertical-align: top;\n",
       "    }\n",
       "\n",
       "    .dataframe thead th {\n",
       "        text-align: right;\n",
       "    }\n",
       "</style>\n",
       "<table border=\"1\" class=\"dataframe\">\n",
       "  <thead>\n",
       "    <tr style=\"text-align: right;\">\n",
       "      <th></th>\n",
       "      <th>0</th>\n",
       "      <th>1</th>\n",
       "      <th>2</th>\n",
       "      <th>3</th>\n",
       "      <th>4</th>\n",
       "      <th>5</th>\n",
       "      <th>6</th>\n",
       "      <th>7</th>\n",
       "      <th>8</th>\n",
       "      <th>9</th>\n",
       "      <th>...</th>\n",
       "      <th>710</th>\n",
       "      <th>711</th>\n",
       "      <th>712</th>\n",
       "      <th>713</th>\n",
       "      <th>714</th>\n",
       "      <th>715</th>\n",
       "      <th>716</th>\n",
       "      <th>717</th>\n",
       "      <th>718</th>\n",
       "      <th>719</th>\n",
       "    </tr>\n",
       "  </thead>\n",
       "  <tbody>\n",
       "    <tr>\n",
       "      <th>2002-04-18 00:00:00</th>\n",
       "      <td>-2.468668</td>\n",
       "      <td>-2.468668</td>\n",
       "      <td>-3.255136</td>\n",
       "      <td>-3.255136</td>\n",
       "      <td>-3.255136</td>\n",
       "      <td>-3.255136</td>\n",
       "      <td>-4.558678</td>\n",
       "      <td>-4.558678</td>\n",
       "      <td>-4.558678</td>\n",
       "      <td>-4.558678</td>\n",
       "      <td>...</td>\n",
       "      <td>-1.436168</td>\n",
       "      <td>-1.436168</td>\n",
       "      <td>-1.436168</td>\n",
       "      <td>-1.436168</td>\n",
       "      <td>-1.397573</td>\n",
       "      <td>-1.397573</td>\n",
       "      <td>-1.397573</td>\n",
       "      <td>-1.397573</td>\n",
       "      <td>-1.202867</td>\n",
       "      <td>-1.202867</td>\n",
       "    </tr>\n",
       "    <tr>\n",
       "      <th>2002-05-10 12:00:00</th>\n",
       "      <td>-1.569404</td>\n",
       "      <td>-1.569404</td>\n",
       "      <td>-2.434077</td>\n",
       "      <td>-2.434077</td>\n",
       "      <td>-2.434077</td>\n",
       "      <td>-2.434077</td>\n",
       "      <td>-3.522088</td>\n",
       "      <td>-3.522088</td>\n",
       "      <td>-3.522088</td>\n",
       "      <td>-3.522088</td>\n",
       "      <td>...</td>\n",
       "      <td>-4.693171</td>\n",
       "      <td>-4.693171</td>\n",
       "      <td>-4.693171</td>\n",
       "      <td>-4.693171</td>\n",
       "      <td>-2.389816</td>\n",
       "      <td>-2.389816</td>\n",
       "      <td>-2.389816</td>\n",
       "      <td>-2.389816</td>\n",
       "      <td>-1.391024</td>\n",
       "      <td>-1.391024</td>\n",
       "    </tr>\n",
       "    <tr>\n",
       "      <th>2002-08-16 12:00:00</th>\n",
       "      <td>-3.044039</td>\n",
       "      <td>-3.044039</td>\n",
       "      <td>-4.037924</td>\n",
       "      <td>-4.037924</td>\n",
       "      <td>-4.037924</td>\n",
       "      <td>-4.037924</td>\n",
       "      <td>-4.012780</td>\n",
       "      <td>-4.012780</td>\n",
       "      <td>-4.012780</td>\n",
       "      <td>-4.012780</td>\n",
       "      <td>...</td>\n",
       "      <td>1.642409</td>\n",
       "      <td>1.642409</td>\n",
       "      <td>1.642409</td>\n",
       "      <td>1.642409</td>\n",
       "      <td>3.673561</td>\n",
       "      <td>3.673561</td>\n",
       "      <td>3.673561</td>\n",
       "      <td>3.673561</td>\n",
       "      <td>4.643331</td>\n",
       "      <td>4.643331</td>\n",
       "    </tr>\n",
       "    <tr>\n",
       "      <th>2002-09-16 00:00:00</th>\n",
       "      <td>-3.201635</td>\n",
       "      <td>-3.201635</td>\n",
       "      <td>-2.518777</td>\n",
       "      <td>-2.518777</td>\n",
       "      <td>-2.518777</td>\n",
       "      <td>-2.518777</td>\n",
       "      <td>-1.432053</td>\n",
       "      <td>-1.432053</td>\n",
       "      <td>-1.432053</td>\n",
       "      <td>-1.432053</td>\n",
       "      <td>...</td>\n",
       "      <td>5.870046</td>\n",
       "      <td>5.870046</td>\n",
       "      <td>5.870046</td>\n",
       "      <td>5.870046</td>\n",
       "      <td>7.635104</td>\n",
       "      <td>7.635104</td>\n",
       "      <td>7.635104</td>\n",
       "      <td>7.635104</td>\n",
       "      <td>8.490572</td>\n",
       "      <td>8.490572</td>\n",
       "    </tr>\n",
       "    <tr>\n",
       "      <th>2002-10-16 12:00:00</th>\n",
       "      <td>-1.785586</td>\n",
       "      <td>-1.785586</td>\n",
       "      <td>-1.600790</td>\n",
       "      <td>-1.600790</td>\n",
       "      <td>-1.600790</td>\n",
       "      <td>-1.600790</td>\n",
       "      <td>-1.948665</td>\n",
       "      <td>-1.948665</td>\n",
       "      <td>-1.948665</td>\n",
       "      <td>-1.948665</td>\n",
       "      <td>...</td>\n",
       "      <td>3.733523</td>\n",
       "      <td>3.733523</td>\n",
       "      <td>3.733523</td>\n",
       "      <td>3.733523</td>\n",
       "      <td>4.931913</td>\n",
       "      <td>4.931913</td>\n",
       "      <td>4.931913</td>\n",
       "      <td>4.931913</td>\n",
       "      <td>5.409453</td>\n",
       "      <td>5.409453</td>\n",
       "    </tr>\n",
       "  </tbody>\n",
       "</table>\n",
       "<p>5 rows × 720 columns</p>\n",
       "</div>"
      ],
      "text/plain": [
       "                          0         1         2         3         4    \\\n",
       "2002-04-18 00:00:00 -2.468668 -2.468668 -3.255136 -3.255136 -3.255136   \n",
       "2002-05-10 12:00:00 -1.569404 -1.569404 -2.434077 -2.434077 -2.434077   \n",
       "2002-08-16 12:00:00 -3.044039 -3.044039 -4.037924 -4.037924 -4.037924   \n",
       "2002-09-16 00:00:00 -3.201635 -3.201635 -2.518777 -2.518777 -2.518777   \n",
       "2002-10-16 12:00:00 -1.785586 -1.785586 -1.600790 -1.600790 -1.600790   \n",
       "\n",
       "                          5         6         7         8         9    ...  \\\n",
       "2002-04-18 00:00:00 -3.255136 -4.558678 -4.558678 -4.558678 -4.558678  ...   \n",
       "2002-05-10 12:00:00 -2.434077 -3.522088 -3.522088 -3.522088 -3.522088  ...   \n",
       "2002-08-16 12:00:00 -4.037924 -4.012780 -4.012780 -4.012780 -4.012780  ...   \n",
       "2002-09-16 00:00:00 -2.518777 -1.432053 -1.432053 -1.432053 -1.432053  ...   \n",
       "2002-10-16 12:00:00 -1.600790 -1.948665 -1.948665 -1.948665 -1.948665  ...   \n",
       "\n",
       "                          710       711       712       713       714  \\\n",
       "2002-04-18 00:00:00 -1.436168 -1.436168 -1.436168 -1.436168 -1.397573   \n",
       "2002-05-10 12:00:00 -4.693171 -4.693171 -4.693171 -4.693171 -2.389816   \n",
       "2002-08-16 12:00:00  1.642409  1.642409  1.642409  1.642409  3.673561   \n",
       "2002-09-16 00:00:00  5.870046  5.870046  5.870046  5.870046  7.635104   \n",
       "2002-10-16 12:00:00  3.733523  3.733523  3.733523  3.733523  4.931913   \n",
       "\n",
       "                          715       716       717       718       719  \n",
       "2002-04-18 00:00:00 -1.397573 -1.397573 -1.397573 -1.202867 -1.202867  \n",
       "2002-05-10 12:00:00 -2.389816 -2.389816 -2.389816 -1.391024 -1.391024  \n",
       "2002-08-16 12:00:00  3.673561  3.673561  3.673561  4.643331  4.643331  \n",
       "2002-09-16 00:00:00  7.635104  7.635104  7.635104  8.490572  8.490572  \n",
       "2002-10-16 12:00:00  4.931913  4.931913  4.931913  5.409453  5.409453  \n",
       "\n",
       "[5 rows x 720 columns]"
      ]
     },
     "metadata": {},
     "execution_count": 87
    }
   ],
   "metadata": {}
  },
  {
   "cell_type": "code",
   "execution_count": 88,
   "source": [
    "lwe_thickness_ts.to_csv('lwe_thickness.csv')"
   ],
   "outputs": [],
   "metadata": {}
  },
  {
   "cell_type": "code",
   "execution_count": null,
   "source": [],
   "outputs": [],
   "metadata": {}
  }
 ],
 "metadata": {
  "orig_nbformat": 4,
  "language_info": {
   "name": "python",
   "version": "3.7.7",
   "mimetype": "text/x-python",
   "codemirror_mode": {
    "name": "ipython",
    "version": 3
   },
   "pygments_lexer": "ipython3",
   "nbconvert_exporter": "python",
   "file_extension": ".py"
  },
  "kernelspec": {
   "name": "python3",
   "display_name": "Python 3.7.7 64-bit"
  },
  "interpreter": {
   "hash": "8f588a5af2c4e87636181920acd83d9c618abfa0f1d05f40581c4cb3071c3472"
  }
 },
 "nbformat": 4,
 "nbformat_minor": 2
}